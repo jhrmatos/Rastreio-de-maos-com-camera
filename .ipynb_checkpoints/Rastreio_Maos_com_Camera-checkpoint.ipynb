{
 "cells": [
  {
   "cell_type": "markdown",
   "id": "ad86e3c4",
   "metadata": {},
   "source": [
    "# Usando a câmera para identificar posicionamento mãos em 20 pontos\n",
    "\n",
    "A ideia é usar a câmera do aparelho para identificar se há mãos e o posicionamento delas\n",
    "\n",
    "Para isso, usaremos as bibliotecas 'cv2' e 'mediapipe'\n",
    "* para instalar as libs: 'pip install opencv_python' e 'pip install mediapipe'"
   ]
  },
  {
   "cell_type": "code",
   "execution_count": null,
   "id": "712bdaf1",
   "metadata": {},
   "outputs": [],
   "source": [
    "# ----- importando libs ----------\n",
    "import cv2\n",
    "import mediapipe as mp\n",
    "import time\n",
    "\n",
    "# ------- Variaveis -------------\n",
    "cap = cv2.VideoCapture(0) # acionando câmera\n",
    "\n",
    "mpHands = mp.solutions.hands # Dados de localização da mão\n",
    "hands = mpHands.Hands() # \n",
    "myDraw = mp.solutions.drawing_utils # desenho da mão\n",
    "\n",
    "# --------- Main() ------------\n",
    "while True:\n",
    "    success, img = cap.read() # capturando a imagem de momento na câmera\n",
    "    imgRGB = cv2.cvtColor(img, cv2.COLOR_BGR2RGB) #convertendo imagem pro RGB\n",
    "    results = hands.process(imgRGB) # Usando IA e salvando resultados de posicionamento das mãos\n",
    "    #print(results.multi_hand_landmarks) # Dados de posição dos 20 pontos achados de cada mão\n",
    "    \n",
    "    # ---- desenhando na img da câmera o posicionamento dos 20 pontos de cada mão\n",
    "    if results.multi_hand_landmarks:\n",
    "        for handLms in results.multi_hand_landmarks:\n",
    "            myDraw.draw_landmarks(img, handLms, mpHands.HAND_CONNECTIONS)\n",
    "            \n",
    "    # ---- mostrando imagem\n",
    "    cv2.imshow('Image',img)\n",
    "    cv2.waitKey(1)"
   ]
  },
  {
   "cell_type": "code",
   "execution_count": null,
   "id": "f4a8ae6d",
   "metadata": {},
   "outputs": [],
   "source": []
  }
 ],
 "metadata": {
  "kernelspec": {
   "display_name": "Python 3 (ipykernel)",
   "language": "python",
   "name": "python3"
  },
  "language_info": {
   "codemirror_mode": {
    "name": "ipython",
    "version": 3
   },
   "file_extension": ".py",
   "mimetype": "text/x-python",
   "name": "python",
   "nbconvert_exporter": "python",
   "pygments_lexer": "ipython3",
   "version": "3.9.7"
  }
 },
 "nbformat": 4,
 "nbformat_minor": 5
}
